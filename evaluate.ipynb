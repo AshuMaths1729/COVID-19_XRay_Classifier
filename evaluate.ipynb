{
  "nbformat": 4,
  "nbformat_minor": 0,
  "metadata": {
    "colab": {
      "name": "evaluate.ipynb",
      "provenance": [],
      "collapsed_sections": [],
      "include_colab_link": true
    },
    "kernelspec": {
      "name": "python3",
      "display_name": "Python 3"
    },
    "accelerator": "GPU"
  },
  "cells": [
    {
      "cell_type": "markdown",
      "metadata": {
        "id": "view-in-github",
        "colab_type": "text"
      },
      "source": [
        "<a href=\"https://colab.research.google.com/github/AshuMaths1729/COVID-19_XRay_Classifier/blob/master/evaluate.ipynb\" target=\"_parent\"><img src=\"https://colab.research.google.com/assets/colab-badge.svg\" alt=\"Open In Colab\"/></a>"
      ]
    },
    {
      "cell_type": "markdown",
      "metadata": {
        "id": "jTCYEOstE5MS",
        "colab_type": "text"
      },
      "source": [
        "**COVID-19 diagnosis using PA view XRay Images**\n",
        "Submitted as part of the SAMHAR COVID-19 Hackathon\n",
        "\n",
        "*Contributors*\n",
        "*   Ashutosh Agrahari (ashutoshmathsgenius@gmail.com)\n",
        "*   Ankur Veer (ankurveer011@gmail.com)\n",
        "*   Anshuman Singh (singhanshuman999@gmail.com)\n",
        "\n"
      ]
    },
    {
      "cell_type": "code",
      "metadata": {
        "id": "DeXRzZQ2CEOt",
        "colab_type": "code",
        "outputId": "daf5ff4b-4c75-46a0-977a-66851f9266b4",
        "colab": {
          "base_uri": "https://localhost:8080/",
          "height": 34
        }
      },
      "source": [
        "import tensorflow as tf\n",
        "import numpy as np\n",
        "from keras.preprocessing import image\n",
        "from keras.models import load_model\n",
        "import cv2\n",
        "import matplotlib.pyplot as plt\n",
        "from sklearn.metrics import confusion_matrix\n",
        "from keras.models import Sequential\n",
        "from keras.optimizers import RMSprop, Adam\n",
        "from keras.layers import Conv2D, MaxPooling2D\n",
        "from keras.layers import Activation, Dropout, Flatten, Dense\n",
        "from keras.utils import plot_model\n",
        "import matplotlib.pyplot as plt\n",
        "import os"
      ],
      "execution_count": 0,
      "outputs": [
        {
          "output_type": "stream",
          "text": [
            "Using TensorFlow backend.\n"
          ],
          "name": "stderr"
        }
      ]
    },
    {
      "cell_type": "code",
      "metadata": {
        "id": "7Tu6OAsVCKgf",
        "colab_type": "code",
        "colab": {}
      },
      "source": [
        "# Data\n",
        "training_data_dir = \"data/train\" \n",
        "test_data_dir = \"data/test\"\n",
        "valid_data_dir = \"data/val\""
      ],
      "execution_count": 0,
      "outputs": []
    },
    {
      "cell_type": "code",
      "metadata": {
        "id": "q1mHz6baCSqt",
        "colab_type": "code",
        "colab": {}
      },
      "source": [
        "# Hyperparams\n",
        "IMAGE_SIZE = 224\n",
        "IMAGE_WIDTH, IMAGE_HEIGHT = IMAGE_SIZE, IMAGE_SIZE\n",
        "EPOCHS = 5\n",
        "BATCH_SIZE = 16"
      ],
      "execution_count": 0,
      "outputs": []
    },
    {
      "cell_type": "code",
      "metadata": {
        "id": "8B8D4Q36CWWA",
        "colab_type": "code",
        "colab": {}
      },
      "source": [
        "input_shape = (IMAGE_WIDTH, IMAGE_HEIGHT, 3)"
      ],
      "execution_count": 0,
      "outputs": []
    },
    {
      "cell_type": "code",
      "metadata": {
        "id": "czqhM2ibCbFM",
        "colab_type": "code",
        "colab": {}
      },
      "source": [
        "model = Sequential()"
      ],
      "execution_count": 0,
      "outputs": []
    },
    {
      "cell_type": "code",
      "metadata": {
        "id": "sBryNaJDCfp2",
        "colab_type": "code",
        "outputId": "67bb540c-6a3a-42ed-f3e1-09ebbe68abaf",
        "colab": {
          "base_uri": "https://localhost:8080/",
          "height": 105
        }
      },
      "source": [
        "model.add(Conv2D(32, (3, 3), border_mode='same', input_shape=input_shape, activation='relu'))\n",
        "model.add(Conv2D(32, (3, 3), border_mode='same', activation='relu'))\n",
        "model.add(MaxPooling2D(pool_size=(2, 2)))\n",
        "model.add(Conv2D(64, (1, 1), border_mode='same', activation='relu'))\n",
        "model.add(Conv2D(64, (1, 1), border_mode='same', activation='relu'))\n",
        "model.add(MaxPooling2D(pool_size=(2, 2)))\n",
        "model.add(Conv2D(128, (3, 3), border_mode='same', activation='relu'))\n",
        "model.add(Conv2D(128, (3, 3), border_mode='same', activation='relu'))\n",
        "model.add(MaxPooling2D(pool_size=(2, 2)))\n",
        "model.add(Conv2D(256, (2, 2), border_mode='same', activation='relu'))\n",
        "model.add(Conv2D(256, (2, 2), border_mode='same', activation='relu'))\n",
        "model.add(MaxPooling2D(pool_size=(2, 2)))\n",
        "model.add(Flatten())\n",
        "model.add(Dense(64, activation='relu'))\n",
        "model.add(Dropout(0.3))\n",
        "model.add(Dense(8, activation='relu'))\n",
        "model.add(Dense(3))"
      ],
      "execution_count": 0,
      "outputs": [
        {
          "output_type": "stream",
          "text": [
            "/usr/local/lib/python3.6/dist-packages/ipykernel_launcher.py:1: UserWarning: Update your `Conv2D` call to the Keras 2 API: `Conv2D(32, (3, 3), input_shape=(224, 224,..., activation=\"relu\", padding=\"same\")`\n",
            "  \"\"\"Entry point for launching an IPython kernel.\n",
            "/usr/local/lib/python3.6/dist-packages/ipykernel_launcher.py:2: UserWarning: Update your `Conv2D` call to the Keras 2 API: `Conv2D(32, (3, 3), activation=\"relu\", padding=\"same\")`\n",
            "  \n"
          ],
          "name": "stderr"
        }
      ]
    },
    {
      "cell_type": "code",
      "metadata": {
        "id": "u9UyU5MrC21n",
        "colab_type": "code",
        "colab": {}
      },
      "source": [
        "model.compile(optimizer='adam',\n",
        "              loss=tf.keras.losses.CategoricalCrossentropy(),\n",
        "              metrics=['accuracy'])\n",
        "# Restore the weights\n",
        "model.load_weights('saved_models/trained_weights')"
      ],
      "execution_count": 0,
      "outputs": []
    },
    {
      "cell_type": "code",
      "metadata": {
        "id": "_BWC1D4zC8FP",
        "colab_type": "code",
        "colab": {}
      },
      "source": [
        "path = 'data/test/COVID-19/nejmoa2001191_f4.jpeg'"
      ],
      "execution_count": 0,
      "outputs": []
    },
    {
      "cell_type": "code",
      "metadata": {
        "id": "uwodqOXXC9CV",
        "colab_type": "code",
        "colab": {}
      },
      "source": [
        "img = cv2.imread(path,-1)\n",
        "plt.imshow(img)\n",
        "img = image.load_img(path, target_size=(224, 224))\n",
        "x = image.img_to_array(img)\n",
        "x = np.expand_dims(x, axis=0)\n",
        "#result = []\n",
        "images = np.vstack([x])\n",
        "classes = list(model.predict(images))"
      ],
      "execution_count": 0,
      "outputs": []
    },
    {
      "cell_type": "code",
      "metadata": {
        "id": "u_VxXNr-DBMo",
        "colab_type": "code",
        "colab": {}
      },
      "source": [
        "print(\"Seems to be a \", end='')\n",
        "if max(classes[0]) == classes[0][0]:\n",
        "    print(\"COVID-19 Case\")\n",
        "elif max(classes[0])== classes[0][1]:\n",
        "    print(\"NORMAL Case\")\n",
        "elif max(classes[0])== classes[0][2]:\n",
        "    print(\"PNEUMONIA Case\")"
      ],
      "execution_count": 0,
      "outputs": []
    }
  ]
}